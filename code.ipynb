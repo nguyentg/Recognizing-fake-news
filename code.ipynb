{
 "cells": [
  {
   "cell_type": "markdown",
   "metadata": {
    "id": "koqoNZxQFm9-",
    "slideshow": {
     "slide_type": "slide"
    }
   },
   "source": [
    "# 1. Thông tin nhóm\n",
    "- Huỳnh Thị Hương Ly\t18133029\n",
    "- Huỳnh Thiên Long\t18133025\n",
    "- Trần Gia Nguyên\t18133036\n",
    "- Phan Thành Trung\t18133059\n",
    "\n",
    "# 2. Giới thiệu sơ lược về project\n",
    "- Tên đề tài: nhận biết tin giả\n",
    "- Mô tả bài toán: \n",
    "Sự lan truyền thông tin sai lệch là một vấn đề ngày càng gia tăng. Việc phân loại tin tức theo cách thủ công thì tốn thời gian. Bài toán phân loại hi vọng có thể giúp phân biệt đâu là tin tức đáng tin hay tin giả.\n",
    "\n",
    "# 3. Giải quyết bài toán"
   ]
  },
  {
   "cell_type": "markdown",
   "metadata": {
    "id": "mLTW2cv_dRv0"
   },
   "source": [
    "## Định dạng Spark"
   ]
  },
  {
   "cell_type": "code",
   "execution_count": 1,
   "metadata": {
    "id": "-xeQyHOvFm-B"
   },
   "outputs": [],
   "source": [
    "import findspark\n",
    "findspark.init()\n",
    "\n",
    "import pyspark\n",
    "findspark.find()\n",
    "\n",
    "from pyspark.sql.functions import count\n",
    "from pyspark.sql.types import StringType, StructField, StructType\n",
    "\n",
    "from pyspark import SparkContext\n",
    "sc = SparkContext.getOrCreate()\n",
    "\n",
    "from pyspark.sql import SQLContext\n",
    "sqlContext = SQLContext(sc)\n",
    "\n",
    "from pyspark.sql import SparkSession\n",
    "spark = SparkSession.builder.master(\"local[*]\").getOrCreate()\n",
    "\n",
    "import pandas as pd\n",
    "from pyspark.ml.evaluation import MulticlassClassificationEvaluator\n",
    "from pyspark.ml.tuning import ParamGridBuilder, CrossValidator"
   ]
  },
  {
   "cell_type": "markdown",
   "metadata": {
    "id": "nA0uvHw8Fm-D",
    "slideshow": {
     "slide_type": "slide"
    }
   },
   "source": [
    "## Read and load Fake News data set"
   ]
  },
  {
   "cell_type": "code",
   "execution_count": 2,
   "metadata": {
    "slideshow": {
     "slide_type": "slide"
    }
   },
   "outputs": [],
   "source": [
    "def read_data(path):\n",
    "  schema= StructType(\n",
    "      [StructField('title',StringType(),True),\n",
    "      StructField('text',StringType(),True),\n",
    "      StructField('subject',StringType(),True),\n",
    "      StructField('date',StringType(),True)])\n",
    "  pd_df= pd.read_csv(path)\n",
    "  sp_df= spark.createDataFrame(pd_df, schema= schema)\n",
    "  return sp_df"
   ]
  },
  {
   "cell_type": "code",
   "execution_count": 3,
   "metadata": {},
   "outputs": [],
   "source": [
    "true_df = read_data('True.csv')\n",
    "fake_df = read_data('Fake.csv')"
   ]
  },
  {
   "cell_type": "code",
   "execution_count": 4,
   "metadata": {
    "colab": {
     "base_uri": "https://localhost:8080/"
    },
    "executionInfo": {
     "elapsed": 8974,
     "status": "ok",
     "timestamp": 1638152456138,
     "user": {
      "displayName": "Tran Gia Nguyen",
      "photoUrl": "https://lh3.googleusercontent.com/a-/AOh14Gi7tzJyuzsn_U_WRysXS-nVmHrAOtY3OvC1KdBFMg=s64",
      "userId": "17623495150722213251"
     },
     "user_tz": -420
    },
    "id": "l9Qhok7oFm-E",
    "outputId": "5f756cbe-6598-485f-a03b-1869cc279630",
    "slideshow": {
     "slide_type": "-"
    }
   },
   "outputs": [
    {
     "name": "stdout",
     "output_type": "stream",
     "text": [
      "+--------------------+--------------------+------------+------------------+\n",
      "|               title|                text|     subject|              date|\n",
      "+--------------------+--------------------+------------+------------------+\n",
      "|As U.S. budget fi...|WASHINGTON (Reute...|politicsNews|December 31, 2017 |\n",
      "|U.S. military to ...|WASHINGTON (Reute...|politicsNews|December 29, 2017 |\n",
      "|Senior U.S. Repub...|WASHINGTON (Reute...|politicsNews|December 31, 2017 |\n",
      "+--------------------+--------------------+------------+------------------+\n",
      "only showing top 3 rows\n",
      "\n"
     ]
    }
   ],
   "source": [
    "true_df.show(3)"
   ]
  },
  {
   "cell_type": "code",
   "execution_count": 5,
   "metadata": {},
   "outputs": [
    {
     "name": "stdout",
     "output_type": "stream",
     "text": [
      "+--------------------+--------------------+-------+-----------------+\n",
      "|               title|                text|subject|             date|\n",
      "+--------------------+--------------------+-------+-----------------+\n",
      "| Donald Trump Sen...|Donald Trump just...|   News|December 31, 2017|\n",
      "| Drunk Bragging T...|House Intelligenc...|   News|December 31, 2017|\n",
      "| Sheriff David Cl...|On Friday, it was...|   News|December 30, 2017|\n",
      "+--------------------+--------------------+-------+-----------------+\n",
      "only showing top 3 rows\n",
      "\n"
     ]
    }
   ],
   "source": [
    "fake_df.show(3)"
   ]
  },
  {
   "cell_type": "code",
   "execution_count": 6,
   "metadata": {},
   "outputs": [],
   "source": [
    "trueDF, truez = true_df.randomSplit([0.07, 0.93])\n",
    "fakeDF, fakez = fake_df.randomSplit([0.07, 0.93])"
   ]
  },
  {
   "cell_type": "code",
   "execution_count": 7,
   "metadata": {},
   "outputs": [],
   "source": [
    "from pyspark.sql.functions import lit, rand\n",
    "data = trueDF.withColumn('label', lit(1)).union(fakeDF.withColumn('label', lit(0))).orderBy(rand())"
   ]
  },
  {
   "cell_type": "code",
   "execution_count": 8,
   "metadata": {
    "colab": {
     "base_uri": "https://localhost:8080/"
    },
    "executionInfo": {
     "elapsed": 3396,
     "status": "ok",
     "timestamp": 1638153047717,
     "user": {
      "displayName": "Tran Gia Nguyen",
      "photoUrl": "https://lh3.googleusercontent.com/a-/AOh14Gi7tzJyuzsn_U_WRysXS-nVmHrAOtY3OvC1KdBFMg=s64",
      "userId": "17623495150722213251"
     },
     "user_tz": -420
    },
    "id": "heXyVPhpXFSA",
    "outputId": "3ac4537d-1f15-4a25-bcff-eccd5c7f09e6",
    "slideshow": {
     "slide_type": "slide"
    }
   },
   "outputs": [
    {
     "name": "stdout",
     "output_type": "stream",
     "text": [
      "+--------------------+--------------------+------------+------------------+-----+\n",
      "|               title|                text|     subject|              date|label|\n",
      "+--------------------+--------------------+------------+------------------+-----+\n",
      "|Trump to make day...|WASHINGTON (Reute...|politicsNews|  August 11, 2017 |    1|\n",
      "|On Inauguration E...|WASHINGTON (Reute...|politicsNews| January 20, 2017 |    1|\n",
      "|Cuban businesswom...|HAVANA (Reuters) ...|politicsNews|November 17, 2017 |    1|\n",
      "| Trump Gets TORCH...|Donald Trump is t...|        News|  February 8, 2017|    0|\n",
      "|Effort to repeal/...|WASHINGTON (Reute...|politicsNews|    July 25, 2017 |    1|\n",
      "+--------------------+--------------------+------------+------------------+-----+\n",
      "only showing top 5 rows\n",
      "\n"
     ]
    }
   ],
   "source": [
    "# Tập dữ liệu gốc\n",
    "data.show(5)"
   ]
  },
  {
   "cell_type": "markdown",
   "metadata": {
    "id": "YfA9Y-HQFm-F"
   },
   "source": [
    "## Tập dữ liệu Fake News \n",
    "\n",
    "\n",
    "+ `title `                    : tên sách\n",
    "+ `text  `                    : văn bản bài báo\n",
    "+ `subject `                  : loại bài báo\n",
    "+ `date `                     : ngày xuất bản\n",
    "+ `label`                     : thật hay giả\n"
   ]
  },
  {
   "cell_type": "code",
   "execution_count": 9,
   "metadata": {
    "id": "CeEh3DHrFm-I"
   },
   "outputs": [],
   "source": [
    "# Xử lý giá trị null\n",
    "data = data.na.fill(0)"
   ]
  },
  {
   "cell_type": "markdown",
   "metadata": {},
   "source": [
    "## Check the data set"
   ]
  },
  {
   "cell_type": "code",
   "execution_count": 10,
   "metadata": {
    "colab": {
     "base_uri": "https://localhost:8080/"
    },
    "executionInfo": {
     "elapsed": 4437,
     "status": "ok",
     "timestamp": 1638153070044,
     "user": {
      "displayName": "Tran Gia Nguyen",
      "photoUrl": "https://lh3.googleusercontent.com/a-/AOh14Gi7tzJyuzsn_U_WRysXS-nVmHrAOtY3OvC1KdBFMg=s64",
      "userId": "17623495150722213251"
     },
     "user_tz": -420
    },
    "id": "xCNl9eicOHZw",
    "outputId": "55344059-0497-4624-e0a5-f160d563d2cd"
   },
   "outputs": [
    {
     "name": "stdout",
     "output_type": "stream",
     "text": [
      "+-----+-----+\n",
      "|label|count|\n",
      "+-----+-----+\n",
      "|    1| 1539|\n",
      "|    0| 1634|\n",
      "+-----+-----+\n",
      "\n"
     ]
    }
   ],
   "source": [
    "# Đếm số lượng tin thật/giả\n",
    "data.groupBy(\"label\").count().show()"
   ]
  },
  {
   "cell_type": "code",
   "execution_count": 11,
   "metadata": {
    "colab": {
     "base_uri": "https://localhost:8080/"
    },
    "executionInfo": {
     "elapsed": 2114,
     "status": "ok",
     "timestamp": 1638153075073,
     "user": {
      "displayName": "Tran Gia Nguyen",
      "photoUrl": "https://lh3.googleusercontent.com/a-/AOh14Gi7tzJyuzsn_U_WRysXS-nVmHrAOtY3OvC1KdBFMg=s64",
      "userId": "17623495150722213251"
     },
     "user_tz": -420
    },
    "id": "0U4b-VylXvci",
    "outputId": "5a859a8d-5d84-40cb-d9b1-3d03066c3c2e"
   },
   "outputs": [
    {
     "name": "stdout",
     "output_type": "stream",
     "text": [
      "+---------------+\n",
      "|        subject|\n",
      "+---------------+\n",
      "|        US_News|\n",
      "|      left-news|\n",
      "|      worldnews|\n",
      "|       politics|\n",
      "|   politicsNews|\n",
      "|Government News|\n",
      "|    Middle-east|\n",
      "|           News|\n",
      "+---------------+\n",
      "\n"
     ]
    }
   ],
   "source": [
    "# Kiểm tra các giá trị của cột subject\n",
    "data.select('subject').distinct().show()"
   ]
  },
  {
   "cell_type": "markdown",
   "metadata": {
    "id": "okYrFFuDFm-I"
   },
   "source": [
    "## Chia tập train test thành 5/5"
   ]
  },
  {
   "cell_type": "code",
   "execution_count": 12,
   "metadata": {
    "id": "ZI7q2mpaYwmw"
   },
   "outputs": [],
   "source": [
    "# do tập dữ liệu đã được xếp theo thứ tự nên cần xáo trộn trước khi chia tập dl\n",
    "#data_df = ak.sample(fraction=0.6)\n",
    "train, test = data.randomSplit([0.5, 0.5])"
   ]
  },
  {
   "cell_type": "code",
   "execution_count": 13,
   "metadata": {},
   "outputs": [
    {
     "name": "stdout",
     "output_type": "stream",
     "text": [
      "+-----+-----+\n",
      "|label|count|\n",
      "+-----+-----+\n",
      "|    1|  772|\n",
      "|    0|  808|\n",
      "+-----+-----+\n",
      "\n"
     ]
    }
   ],
   "source": [
    "# Đếm số lượng tin thật - giả trong tập dữ liệu dùng để huấn luyện mô hình\n",
    "train.groupBy(\"label\").count().show()"
   ]
  },
  {
   "cell_type": "code",
   "execution_count": 14,
   "metadata": {},
   "outputs": [
    {
     "name": "stdout",
     "output_type": "stream",
     "text": [
      "+-----+-----+\n",
      "|label|count|\n",
      "+-----+-----+\n",
      "|    1|  767|\n",
      "|    0|  826|\n",
      "+-----+-----+\n",
      "\n"
     ]
    }
   ],
   "source": [
    "# Đếm số lượng tin thật - giả trong tập dữ liệu dùng để huấn luyện mô hình\n",
    "test.groupBy(\"label\").count().show() "
   ]
  },
  {
   "cell_type": "markdown",
   "metadata": {
    "id": "L6G_xMAPFm-J"
   },
   "source": [
    "## Tạo object để xử lí dữ liệu"
   ]
  },
  {
   "cell_type": "code",
   "execution_count": 15,
   "metadata": {
    "id": "yWi7h8JyO3lU"
   },
   "outputs": [],
   "source": [
    "# ngyen\n",
    "# Create objects for processing data\n",
    "from pyspark.ml.feature import SQLTransformer, RegexTokenizer, StopWordsRemover, CountVectorizer, Imputer, IDF\n",
    "from pyspark.ml.feature import StringIndexer, VectorAssembler\n",
    "StopWordsRemover.loadDefaultStopWords('english')\n",
    "\n",
    "#### thuộc tính \"tittle\"\n",
    "# 0. Extract tokens from title\n",
    "title_tokenizer= RegexTokenizer(inputCol= 'title', outputCol= 'title_words', pattern= '\\\\W', toLowercase= True)\n",
    "# 1. Remove stop words from title\n",
    "title_remove_stopwords = StopWordsRemover(inputCol= 'title_words', outputCol= 'title_remove_stopwords')\n",
    "# 2. Compute Term frequency from title\n",
    "title_count_vectorizer = CountVectorizer(inputCol= 'title_remove_stopwords', outputCol= 'tf_title')\n",
    "# 3. Compute Term frequency-inverse document frequency from title\n",
    "title_tfidf= IDF(inputCol= 'tf_title', outputCol= 'tf_idf_title')\n",
    "\n",
    "\n",
    "#### thuộc tính \"text\"\n",
    "# 4. Extract tokens from text\n",
    "text_tokenizer= RegexTokenizer(inputCol= 'text', outputCol= 'text_words', pattern= '\\\\W', toLowercase= True)\n",
    "# 5. Remove stop words from text\n",
    "text_remove_stopwords = StopWordsRemover(inputCol= 'text_words', outputCol= 'text_remove_stopwords')\n",
    "# 6. Compute Term frequency from text\n",
    "text_count_vectorizer = CountVectorizer(inputCol= 'text_remove_stopwords', outputCol= 'tf_text')\n",
    "# 7. Compute Term frequency-inverse document frequency text\n",
    "text_tfidf = IDF(inputCol= 'tf_text', outputCol= 'tf_idf_text')\n",
    "\n",
    "# 8. StringIndexer subject\n",
    "subject_indexer = StringIndexer(inputCol= 'subject', outputCol= 'subject_idx')\n",
    "label_indexer= StringIndexer(inputCol= 'label', outputCol= 'label_idx')\n",
    "# 9. VectorAssembler\n",
    "vec_assembler = VectorAssembler(inputCols=['tf_idf_title', 'tf_idf_text', 'subject_idx'], outputCol= 'features')"
   ]
  },
  {
   "cell_type": "markdown",
   "metadata": {
    "id": "YDTstSgfl4hI"
   },
   "source": [
    "**Token : chuyển đổi text thành danh sách các từ**"
   ]
  },
  {
   "cell_type": "markdown",
   "metadata": {
    "id": "2NmPZ1_IKbSy"
   },
   "source": [
    "**Term frequency (tần suất xuất hiện của từ):**\n",
    "* là số lần từ xuất hiện trong văn bản\n",
    "* một thuật ngữ xuất hiện càng nhiều , thường xuyên thì thuật ngữ đó càng có khả năng mang lại thông tin hữu ích cho văn bản(trừ stop-word)\n",
    "\n",
    "\n",
    "![tf.webp](data:image/webp;base64,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)\n",
    "* tf(t, d): tần suất xuất hiện của từ t trong văn bản d\n",
    "* f(t, d): Số lần xuất hiện của từ t trong văn bản d\n",
    "* max({f(w, d) : w ∈ d}): Số lần xuất hiện của từ có số lần xuất hiện nhiều nhất trong văn bản d"
   ]
  },
  {
   "cell_type": "markdown",
   "metadata": {
    "id": "OY9tGLsFJEVc"
   },
   "source": [
    "**Inverse document frequency (nghịch đảo tần suất của văn bản):** \n",
    "* giúp đánh giá tầm quan trọng của 1 từ\n",
    "* nếu một thuật ngữ xuất hiện hầu hết trong văn bản nó sẽ có rất ít khả năg hữu ích để phân biệt và phân loại chúng\n",
    "\n",
    "![idf.webp](data:image/webp;base64,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)\n",
    " * idf(t, D): giá trị idf của từ t trong tập văn bản\n",
    " * |D|: Tổng số văn bản trong tập D\n",
    " * |{d ∈ D : t ∈ d}|: thể hiện số văn bản trong tập D có chứa từ t."
   ]
  },
  {
   "cell_type": "markdown",
   "metadata": {},
   "source": [
    "## Tạo pipeline"
   ]
  },
  {
   "cell_type": "code",
   "execution_count": 16,
   "metadata": {},
   "outputs": [],
   "source": [
    "from pyspark.ml import Pipeline\n",
    "\n",
    "pipeline = Pipeline(stages=[title_tokenizer, \n",
    "                title_remove_stopwords, \n",
    "                title_count_vectorizer, \n",
    "                title_tfidf, \n",
    "                text_tokenizer, \n",
    "                text_remove_stopwords, \n",
    "                text_count_vectorizer, \n",
    "                text_tfidf, \n",
    "                subject_indexer, \n",
    "                label_indexer, \n",
    "                vec_assembler]) \n",
    "model = pipeline.fit(train)"
   ]
  },
  {
   "cell_type": "markdown",
   "metadata": {},
   "source": [
    "## Biến đổi train data theo định dạng của Spark"
   ]
  },
  {
   "cell_type": "code",
   "execution_count": 17,
   "metadata": {},
   "outputs": [
    {
     "name": "stdout",
     "output_type": "stream",
     "text": [
      "+--------------------+---------+\n",
      "|            features|label_idx|\n",
      "+--------------------+---------+\n",
      "|(33055,[6,10,40,1...|      1.0|\n",
      "|(33055,[2,13,47,8...|      1.0|\n",
      "|(33055,[17,113,27...|      1.0|\n",
      "|(33055,[0,2,4,58,...|      1.0|\n",
      "|(33055,[66,242,76...|      1.0|\n",
      "+--------------------+---------+\n",
      "only showing top 5 rows\n",
      "\n"
     ]
    }
   ],
   "source": [
    "final_train = model.transform(train)\n",
    "final_train.select(\"features\",\"label_idx\").show(5)"
   ]
  },
  {
   "cell_type": "code",
   "execution_count": 18,
   "metadata": {},
   "outputs": [
    {
     "name": "stdout",
     "output_type": "stream",
     "text": [
      "+--------------------+---------+\n",
      "|            features|label_idx|\n",
      "+--------------------+---------+\n",
      "|(33055,[4,20,22,3...|      1.0|\n",
      "|(33055,[0,20,67,1...|      1.0|\n",
      "|(33055,[6,10,16,1...|      1.0|\n",
      "|(33055,[25,58,76,...|      1.0|\n",
      "|(33055,[0,19,25,8...|      1.0|\n",
      "+--------------------+---------+\n",
      "only showing top 5 rows\n",
      "\n"
     ]
    }
   ],
   "source": [
    "final_test = model.transform(test)\n",
    "final_test.select(\"features\",\"label_idx\").show(5)"
   ]
  },
  {
   "cell_type": "markdown",
   "metadata": {
    "id": "8jxQQTAUedbv"
   },
   "source": [
    "## Hàm đánh giá kết quả của mô hình"
   ]
  },
  {
   "cell_type": "code",
   "execution_count": 19,
   "metadata": {
    "id": "pzoajUyxek_Y"
   },
   "outputs": [],
   "source": [
    "# ngyen\n",
    "# Hàm để đánh giá mô hình phân loại\n",
    "from pyspark.ml.evaluation import  MulticlassClassificationEvaluator, BinaryClassificationEvaluator, RegressionEvaluator\n",
    "\n",
    "accuracy= MulticlassClassificationEvaluator(labelCol= 'label_idx', predictionCol='prediction', metricName= 'accuracy')\n",
    "f1= MulticlassClassificationEvaluator(labelCol= 'label_idx', predictionCol= 'prediction', metricName= 'f1')\n",
    "areaUnderROC= BinaryClassificationEvaluator(labelCol= 'label_idx', metricName= 'areaUnderROC')\n",
    "evaluator = RegressionEvaluator(predictionCol=\"prediction\", labelCol=\"label\", metricName=\"rmse\")\n",
    "\n",
    "def classification_evaluator(data_result):\n",
    "    data_result.crosstab(col1= 'prediction', col2= 'label_idx').show()\n",
    "    print('accuracy:' ,accuracy.evaluate(data_result))\n",
    "    print('f1:' ,f1.evaluate(data_result))\n",
    "    print('areaUnderROC:' ,areaUnderROC.evaluate(data_result))"
   ]
  },
  {
   "cell_type": "markdown",
   "metadata": {
    "id": "rfhfN9oSd0UE"
   },
   "source": [
    "## NAIVE BAYES - Trần Gia Nguyên\n"
   ]
  },
  {
   "cell_type": "markdown",
   "metadata": {},
   "source": [
    "### Điều chỉnh các siêu tham số của các mô hình để chọn mô hình tốt nhất bằng cách sử dụng cross validation. "
   ]
  },
  {
   "cell_type": "code",
   "execution_count": 20,
   "metadata": {},
   "outputs": [
    {
     "name": "stdout",
     "output_type": "stream",
     "text": [
      "CrossValidatorModel_62e144104834\n"
     ]
    }
   ],
   "source": [
    "from pyspark.ml.classification import NaiveBayes\n",
    "\n",
    "nb = NaiveBayes().setLabelCol(\"label_idx\").setFeaturesCol(\"features\")\n",
    "\n",
    "# Evaluate model\n",
    "evaluator = MulticlassClassificationEvaluator(\n",
    "    labelCol=\"label\", predictionCol=\"prediction\", metricName=\"accuracy\")\n",
    "\n",
    "# Create ParamGrid for Cross Validation\n",
    "nbparamGrid = (ParamGridBuilder()\n",
    "               .addGrid(nb.smoothing, [0.0, 0.2, 0.4, 0.6, 0.8, 1.0])\n",
    "               .build())\n",
    "\n",
    "# Create 10-fold CrossValidator\n",
    "nbcv = CrossValidator(estimator = nb,\n",
    "                      estimatorParamMaps = nbparamGrid,\n",
    "                      evaluator = evaluator,\n",
    "                      numFolds = 10)\n",
    "\n",
    "# Run cross validations.\n",
    "nbcvModel = nbcv.fit(final_train)\n",
    "print(nbcvModel)"
   ]
  },
  {
   "cell_type": "markdown",
   "metadata": {},
   "source": [
    "### Dự đoán trên tập test và đánh giá kết quả của mô hình NaiveBayes-chọn từ crossvalidation"
   ]
  },
  {
   "cell_type": "code",
   "execution_count": 21,
   "metadata": {},
   "outputs": [
    {
     "name": "stdout",
     "output_type": "stream",
     "text": [
      "+--------------------+---------+----------+\n",
      "|            features|label_idx|prediction|\n",
      "+--------------------+---------+----------+\n",
      "|(33055,[4,20,22,3...|      1.0|       1.0|\n",
      "|(33055,[0,20,67,1...|      1.0|       1.0|\n",
      "|(33055,[6,10,16,1...|      1.0|       1.0|\n",
      "|(33055,[25,58,76,...|      1.0|       1.0|\n",
      "|(33055,[0,19,25,8...|      1.0|       1.0|\n",
      "+--------------------+---------+----------+\n",
      "only showing top 5 rows\n",
      "\n"
     ]
    }
   ],
   "source": [
    "# Use test set here so we can measure the accuracy of our model on new data\n",
    "nbpredictions = nbcvModel.transform(final_test)\n",
    "nbpredictions.select(\"features\",\"label_idx\",\"prediction\").show(5)"
   ]
  },
  {
   "cell_type": "code",
   "execution_count": 22,
   "metadata": {},
   "outputs": [
    {
     "name": "stdout",
     "output_type": "stream",
     "text": [
      "+--------------------+---+---+\n",
      "|prediction_label_idx|0.0|1.0|\n",
      "+--------------------+---+---+\n",
      "|                 1.0| 51|692|\n",
      "|                 0.0|775| 75|\n",
      "+--------------------+---+---+\n",
      "\n",
      "accuracy: 0.9209039548022598\n",
      "f1: 0.9208416970923097\n",
      "areaUnderROC: 0.5591010540737631\n"
     ]
    }
   ],
   "source": [
    "# Evaluate the model\n",
    "classification_evaluator(nbpredictions)"
   ]
  },
  {
   "cell_type": "markdown",
   "metadata": {
    "id": "jhdS1f7zoHOI"
   },
   "source": [
    "### Kết luận sau khi tinh chỉnh\n",
    "Sau quá trình tinh chỉnh siêu tham số cho mô hình được huấn luyện bằng thuật toán Naive Bayes: mô hình tốt nhất có độ chính xác đạt 0.9354066985645934. Nhìn vào ma trận đánh giá, có thể thấy tin dự đoán sai khá ít nhưng vẫn chưa tốt lắm so với mong muốn ban đầu."
   ]
  },
  {
   "cell_type": "markdown",
   "metadata": {},
   "source": [
    "## RANDOMFOREST - Phan Thành Trung"
   ]
  },
  {
   "cell_type": "markdown",
   "metadata": {},
   "source": [
    "### Điều chỉnh các siêu tham số của các mô hình để chọn mô hình tốt nhất bằng cách sử dụng cross validation."
   ]
  },
  {
   "cell_type": "code",
   "execution_count": 23,
   "metadata": {},
   "outputs": [
    {
     "name": "stdout",
     "output_type": "stream",
     "text": [
      "CrossValidatorModel_fa75db7c0e2b\n"
     ]
    }
   ],
   "source": [
    "from pyspark.ml.classification import RandomForestClassifier \n",
    "rf = RandomForestClassifier(featuresCol= 'features', labelCol= 'label_idx')\n",
    "\n",
    "# Evaluate model\n",
    "evaluator = MulticlassClassificationEvaluator(\n",
    "    labelCol=\"label\", predictionCol=\"prediction\", metricName=\"accuracy\")\n",
    "\n",
    "# Create ParamGrid for Cross Validation\n",
    "rfparamGrid = (ParamGridBuilder()\n",
    "             .addGrid(rf.maxDepth, [2, 5, 10])\n",
    "             .addGrid(rf.maxBins, [10, 20])\n",
    "             .addGrid(rf.numTrees, [5, 20, 50])\n",
    "             .build())\n",
    "\n",
    "# Create 10-fold CrossValidator\n",
    "rfcv = CrossValidator(estimator = rf,\n",
    "                      estimatorParamMaps = rfparamGrid,\n",
    "                      evaluator = evaluator,\n",
    "                      numFolds = 10)\n",
    "\n",
    "# Run cross validations.\n",
    "rfcvModel = rfcv.fit(final_train)\n",
    "print(rfcvModel)"
   ]
  },
  {
   "cell_type": "markdown",
   "metadata": {},
   "source": [
    "### Dự đoán trên tập test và đánh giá kết quả của mô hình RandomForest-chọn từ crossvalidation"
   ]
  },
  {
   "cell_type": "code",
   "execution_count": 24,
   "metadata": {},
   "outputs": [
    {
     "name": "stdout",
     "output_type": "stream",
     "text": [
      "+--------------------+---------+----------+\n",
      "|            features|label_idx|prediction|\n",
      "+--------------------+---------+----------+\n",
      "|(33055,[4,20,22,3...|      1.0|       1.0|\n",
      "|(33055,[0,20,67,1...|      1.0|       1.0|\n",
      "|(33055,[6,10,16,1...|      1.0|       1.0|\n",
      "|(33055,[25,58,76,...|      1.0|       1.0|\n",
      "|(33055,[0,19,25,8...|      1.0|       1.0|\n",
      "+--------------------+---------+----------+\n",
      "only showing top 5 rows\n",
      "\n"
     ]
    }
   ],
   "source": [
    "# Dự đoán\n",
    "rfpredictions = rfcvModel.transform(final_test)\n",
    "rfpredictions.select(\"features\",\"label_idx\",\"prediction\").show(5)"
   ]
  },
  {
   "cell_type": "code",
   "execution_count": 25,
   "metadata": {},
   "outputs": [
    {
     "name": "stdout",
     "output_type": "stream",
     "text": [
      "+--------------------+---+---+\n",
      "|prediction_label_idx|0.0|1.0|\n",
      "+--------------------+---+---+\n",
      "|                 1.0| 18|745|\n",
      "|                 0.0|808| 22|\n",
      "+--------------------+---+---+\n",
      "\n",
      "accuracy: 0.9748901443816698\n",
      "f1: 0.9748876469535748\n",
      "areaUnderROC: 0.9974461045992217\n"
     ]
    }
   ],
   "source": [
    "# Evaluate the model\n",
    "classification_evaluator(rfpredictions)"
   ]
  },
  {
   "cell_type": "markdown",
   "metadata": {},
   "source": [
    "### Kết luận sau khi tinh chỉnh"
   ]
  },
  {
   "cell_type": "markdown",
   "metadata": {},
   "source": [
    "Trong quá trình tinh chỉnh siêu tham số cho mô hình được huấn luyện bằng thuật toán RandomForest, thuật toán thứ nhất là thuật toán cho kết quả dự đoán tốt nhất. Mô hình tốt nhất có siêu tham số gồm 1 thuộc tính: text."
   ]
  },
  {
   "cell_type": "markdown",
   "metadata": {},
   "source": [
    "## GRADIENT BOOST - Huỳnh Thị Hương Ly"
   ]
  },
  {
   "cell_type": "markdown",
   "metadata": {},
   "source": [
    "### Điều chỉnh các siêu tham số của các mô hình để chọn mô hình tốt nhất bằng cách sử dụng cross validation"
   ]
  },
  {
   "cell_type": "code",
   "execution_count": 26,
   "metadata": {},
   "outputs": [
    {
     "name": "stdout",
     "output_type": "stream",
     "text": [
      "CrossValidatorModel_0a9a99e5b87b\n"
     ]
    }
   ],
   "source": [
    "# Tạo Object cho mô hình\n",
    "from pyspark.ml.classification import GBTClassifier\n",
    "gb = GBTClassifier(labelCol=\"label_idx\", featuresCol=\"features\")\n",
    "\n",
    "# Evaluate model\n",
    "evaluator = MulticlassClassificationEvaluator(\n",
    "    labelCol=\"label\", predictionCol=\"prediction\", metricName=\"accuracy\")\n",
    "\n",
    "# Create ParamGrid for Cross Validation\n",
    "gbparamGrid = (ParamGridBuilder()\n",
    "             .addGrid(gb.maxDepth, [2, 5])\n",
    "             .addGrid(gb.maxBins, [10, 20])\n",
    "             .addGrid(gb.maxIter, [5, 10])\n",
    "             .build())\n",
    "\n",
    "# Create 5-fold CrossValidator\n",
    "gbcv = CrossValidator(estimator = gb,\n",
    "                      estimatorParamMaps = gbparamGrid,\n",
    "                      evaluator = evaluator,\n",
    "                      numFolds = 5)  \n",
    "\n",
    "# Run cross validations.\n",
    "gbcvModel = gbcv.fit(final_train)\n",
    "print(gbcvModel)"
   ]
  },
  {
   "cell_type": "markdown",
   "metadata": {},
   "source": [
    "### Dự đoán trên tập test và đánh giá kết quả của mô hình GradientBoost-chọn từ crossvalidation"
   ]
  },
  {
   "cell_type": "code",
   "execution_count": 27,
   "metadata": {},
   "outputs": [
    {
     "name": "stdout",
     "output_type": "stream",
     "text": [
      "+--------------------+---------+----------+\n",
      "|            features|label_idx|prediction|\n",
      "+--------------------+---------+----------+\n",
      "|(33055,[4,20,22,3...|      1.0|       1.0|\n",
      "|(33055,[0,20,67,1...|      1.0|       1.0|\n",
      "|(33055,[6,10,16,1...|      1.0|       1.0|\n",
      "|(33055,[25,58,76,...|      1.0|       1.0|\n",
      "|(33055,[0,19,25,8...|      1.0|       1.0|\n",
      "+--------------------+---------+----------+\n",
      "only showing top 5 rows\n",
      "\n",
      "+--------------------+---+---+\n",
      "|prediction_label_idx|0.0|1.0|\n",
      "+--------------------+---+---+\n",
      "|                 1.0|  0|767|\n",
      "|                 0.0|826|  0|\n",
      "+--------------------+---+---+\n",
      "\n",
      "accuracy: 1.0\n",
      "f1: 1.0\n",
      "areaUnderROC: 1.0\n"
     ]
    }
   ],
   "source": [
    "# Dự đoán \n",
    "gbpredictions = gbcvModel.transform(final_test)\n",
    "gbpredictions.select(\"features\",\"label_idx\",\"prediction\").show(5)\n",
    "\n",
    "# Evaluate best model\n",
    "classification_evaluator(gbpredictions)"
   ]
  },
  {
   "cell_type": "markdown",
   "metadata": {},
   "source": [
    "## DECISION TREE - Huỳnh Thiên Long"
   ]
  },
  {
   "cell_type": "code",
   "execution_count": 28,
   "metadata": {},
   "outputs": [],
   "source": [
    "vec_assembler1 = VectorAssembler(inputCols=['tf_idf_text'], outputCol= 'features1')\n",
    "vec_assembler2 = VectorAssembler(inputCols=['tf_idf_title', 'tf_idf_text'], outputCol= 'features2')\n",
    "vec_assembler3 = VectorAssembler(inputCols=['tf_idf_title', 'tf_idf_text', 'subject_idx'], outputCol= 'features3')\n",
    "\n",
    "from pyspark.ml.classification import DecisionTreeClassifier\n",
    "dt1 = DecisionTreeClassifier(featuresCol= 'features1', labelCol= 'label_idx', predictionCol= 'prediction', maxDepth= 7)\n",
    "dt2 = DecisionTreeClassifier(featuresCol= 'features2', labelCol= 'label_idx', predictionCol= 'prediction', maxDepth= 7)\n",
    "dt3 = DecisionTreeClassifier(featuresCol= 'features3', labelCol= 'label_idx', predictionCol= 'prediction', maxDepth= 7)\n",
    "\n",
    "# Create Pipeline for processing and fitting data to model\n",
    "from pyspark.ml import Pipeline\n",
    "dt_pipe1 = Pipeline(stages=[\n",
    "                text_tokenizer, \n",
    "                text_remove_stopwords,\n",
    "                text_count_vectorizer, \n",
    "                text_tfidf, \n",
    "                label_indexer, \n",
    "                vec_assembler1, \n",
    "                dt1]) \n",
    "\n",
    "dt_pipe2 = Pipeline(stages=[\n",
    "                title_tokenizer, \n",
    "                title_remove_stopwords, \n",
    "                title_count_vectorizer, \n",
    "                title_tfidf, \n",
    "                text_tokenizer, \n",
    "                text_remove_stopwords, \n",
    "                text_count_vectorizer, \n",
    "                text_tfidf, \n",
    "                label_indexer, \n",
    "                vec_assembler2, \n",
    "                dt2]) \n",
    " \n",
    "dt_pipe3 = Pipeline(stages=[title_tokenizer, \n",
    "                title_remove_stopwords, \n",
    "                title_count_vectorizer, \n",
    "                title_tfidf, \n",
    "                text_tokenizer, \n",
    "                text_remove_stopwords, \n",
    "                text_count_vectorizer, \n",
    "                text_tfidf, \n",
    "                subject_indexer, \n",
    "                label_indexer, \n",
    "                vec_assembler3, \n",
    "                dt3])"
   ]
  },
  {
   "cell_type": "markdown",
   "metadata": {},
   "source": [
    "### Huấn luyện mô hình bằng thuật toán decision tree trên tập train"
   ]
  },
  {
   "cell_type": "code",
   "execution_count": 29,
   "metadata": {},
   "outputs": [],
   "source": [
    "# Mô hình số 1: siêu tham số gồm 1 biến tittle\n",
    "dt_model1 = dt_pipe1.fit(train)\n",
    "\n",
    "# Mô hình số 2: siêu tham số gồm 2 biến title và text\n",
    "dt_model2 = dt_pipe2.fit(train)\n",
    "\n",
    "# Mô hình số 3: siêu tham số gồm 3 biến title, text và subject\n",
    "dt_model3 = dt_pipe3.fit(train)"
   ]
  },
  {
   "cell_type": "markdown",
   "metadata": {},
   "source": [
    "### Dự đoán và đánh giá kết quả của mô hình decision tree"
   ]
  },
  {
   "cell_type": "code",
   "execution_count": 30,
   "metadata": {},
   "outputs": [
    {
     "name": "stdout",
     "output_type": "stream",
     "text": [
      "+--------------------+---+---+\n",
      "|prediction_label_idx|0.0|1.0|\n",
      "+--------------------+---+---+\n",
      "|                 1.0| 11|763|\n",
      "|                 0.0|815|  4|\n",
      "+--------------------+---+---+\n",
      "\n",
      "accuracy: 0.9905838041431262\n",
      "f1: 0.9905851562416103\n",
      "areaUnderROC: 0.9907338424287577\n"
     ]
    }
   ],
   "source": [
    "### Dự đoán bằng mô hình số 1 trên test dataset\n",
    "dt_train_result1 = dt_model1.transform(test)\n",
    "\n",
    "# Đánh giá mô hình số 1\n",
    "classification_evaluator(dt_train_result1)"
   ]
  },
  {
   "cell_type": "code",
   "execution_count": 31,
   "metadata": {},
   "outputs": [
    {
     "name": "stdout",
     "output_type": "stream",
     "text": [
      "+--------------------+---+---+\n",
      "|prediction_label_idx|0.0|1.0|\n",
      "+--------------------+---+---+\n",
      "|                 1.0|  7|762|\n",
      "|                 0.0|819|  5|\n",
      "+--------------------+---+---+\n",
      "\n",
      "accuracy: 0.992467043314501\n",
      "f1: 0.9924673821548822\n",
      "areaUnderROC: 0.992503259452412\n"
     ]
    }
   ],
   "source": [
    "### Dự đoán bằng mô hình số 2 trên test dataset\n",
    "dt_train_result2 = dt_model2.transform(test)\n",
    "\n",
    "# Đánh giá mô hình số 2\n",
    "classification_evaluator(dt_train_result2)"
   ]
  },
  {
   "cell_type": "code",
   "execution_count": 32,
   "metadata": {},
   "outputs": [
    {
     "name": "stdout",
     "output_type": "stream",
     "text": [
      "+--------------------+---+---+\n",
      "|prediction_label_idx|0.0|1.0|\n",
      "+--------------------+---+---+\n",
      "|                 1.0|  0|767|\n",
      "|                 0.0|826|  0|\n",
      "+--------------------+---+---+\n",
      "\n",
      "accuracy: 1.0\n",
      "f1: 1.0\n",
      "areaUnderROC: 1.0\n"
     ]
    }
   ],
   "source": [
    "### Dự đoán bằng mô hình số 2 trên test dataset\n",
    "dt_train_result3 = dt_model3.transform(test)\n",
    "\n",
    "# Đánh giá mô hình số 2\n",
    "classification_evaluator(dt_train_result3)"
   ]
  },
  {
   "cell_type": "markdown",
   "metadata": {},
   "source": [
    "### Kết luận sau khi tinh chỉnh"
   ]
  },
  {
   "cell_type": "markdown",
   "metadata": {},
   "source": [
    "Trong quá trình tinh chỉnh siêu tham số, 3 mô hình đều cho kết quả dự đoán rất tốt. Mô hình tốt nhất là mô hình thứ 3, siêu tham số có 3 thuộc tính tittle, text và subject."
   ]
  },
  {
   "cell_type": "markdown",
   "metadata": {},
   "source": [
    "# 4. Tổng kết\n",
    "Chỉ số AUR càng cao thì mô hình càng chính xác trong việc phân loại các lớp. RMSE càng nhỏ tức là sai số càng bé thì mức độ ước lượng cho thấy độ tin cậy của mô hình có thể đạt cao nhất. Độ đo bài toán đặt ra ban đầu là False Negative vì muốn so sánh thuật toán nào nhận biết tin giả thành tin thật ít nhất.\n",
    "\n",
    "Bài toán này là bài toán phân biệt tin giả. Tùy vào trường hợp, mục đích mà có độ đo khác nhau. Mục tiêu nhóm em nhắm đến là đưa số tin giả bị nhầm thành tin thật xuống mức thấp nhất, nên độ đo nhóm chọn là False Negative. Bởi nếu vô tình nhầm tin giả thành tin thật, tin giả đó có thể gây ảnh hưởng xấu đến chúng ta. Vì thế nhóm ưu tiên chọn mô hình nhận biết nhầm tin giả thành tin thật thấp nhất.\n",
    "\n",
    "Các chỉ số đánh giá mô hình tốt nhất của các thuật toán:\n",
    "- Naive Bayes: \n",
    " + accuracy: 0.9354066985645934\n",
    " + f1: 0.9353469577919543\n",
    " + areaUnderROC: 0.5155146785581569\n",
    " \n",
    "- RandomForest:\n",
    " + accuracy: 0.9904306220095693\n",
    " + f1: 0.9904248365467685\n",
    " + areaUnderROC: 0.9994425863991081\n",
    " \n",
    "- Gradient Boost:\n",
    " + accuracy: 1.0\n",
    " + f1: 1.0\n",
    " + areaUnderROC: 1.0\n",
    " \n",
    "- Decision Tree:\n",
    " + accuracy: 1.0\n",
    " + f1: 1.0\n",
    " + areaUnderROC: 1.0\n",
    " \n",
    "Trong 3 thuật toán, kết quả dự đoán của Gradient Boost và Decision Tree tốt nhất. Random Forest cũng khá tốt, nhưng dùng trên tập dữ liệu lớn lại quá tốn thời gian. Naive Bayse ban đầu được dự đoán là thuật toán phù hợp nhất với bài toán này, nhưng từ kết quả, có thể thấy kết quả dự đoán Naive Bayes là không bằng 3 thuật toán còn lại. Bù lại, Naive Bayes nhanh hơn Random Forrest, Gradient Boost và Decision Tree."
   ]
  },
  {
   "cell_type": "markdown",
   "metadata": {},
   "source": [
    "### So sánh accuracy của các mô hình tìm được"
   ]
  },
  {
   "cell_type": "code",
   "execution_count": 33,
   "metadata": {},
   "outputs": [
    {
     "data": {
      "image/png": "[encoded data removed]",
      "text/plain": [
       "<Figure size 432x288 with 1 Axes>"
      ]
     },
     "metadata": {
      "needs_background": "light"
     },
     "output_type": "display_data"
    }
   ],
   "source": [
    "import matplotlib.pyplot as plt\n",
    "import numpy as np\n",
    "\n",
    "label = [\"Naive Bayes\", \"Random Forest\", \"Gradient Boost\", \"Decision Tree\"]\n",
    "accuracy = [0.9354066985645934, 0.9904306220095693, 1, 1]\n",
    "plt.bar(label, accuracy, color='green')\n",
    "plt.title(\"Accuracy comparison chart\")\n",
    "plt.xlabel(\"Accuracy\")\n",
    "plt.show()"
   ]
  },
  {
   "cell_type": "code",
   "execution_count": null,
   "metadata": {},
   "outputs": [],
   "source": []
  }
 ],
 "metadata": {
  "colab": {
   "collapsed_sections": [],
   "name": "fakenews_Nguyên.ipynb",
   "provenance": []
  },
  "kernelspec": {
   "display_name": "Python 3",
   "language": "python",
   "name": "python3"
  },
  "language_info": {
   "codemirror_mode": {
    "name": "ipython",
    "version": 3
   },
   "file_extension": ".py",
   "mimetype": "text/x-python",
   "name": "python",
   "nbconvert_exporter": "python",
   "pygments_lexer": "ipython3",
   "version": "3.8.5"
  }
 },
 "nbformat": 4,
 "nbformat_minor": 1
}
